{
 "cells": [
  {
   "cell_type": "code",
   "execution_count": 10,
   "metadata": {},
   "outputs": [
    {
     "name": "stdout",
     "output_type": "stream",
     "text": [
      "versión de tensorflow: 1.4.0\n"
     ]
    }
   ],
   "source": [
    "import tensorflow as tf\n",
    "import numpy as np\n",
    "\n",
    "print(\"versión de tensorflow:\", tf.__version__)\n"
   ]
  },
  {
   "cell_type": "markdown",
   "metadata": {},
   "source": [
    "### Datos de Entrenamiento"
   ]
  },
  {
   "cell_type": "code",
   "execution_count": 11,
   "metadata": {},
   "outputs": [
    {
     "name": "stdout",
     "output_type": "stream",
     "text": [
      "Extracting MNIST_data\\train-images-idx3-ubyte.gz\n",
      "Extracting MNIST_data\\train-labels-idx1-ubyte.gz\n",
      "Extracting MNIST_data\\t10k-images-idx3-ubyte.gz\n",
      "Extracting MNIST_data\\t10k-labels-idx1-ubyte.gz\n"
     ]
    }
   ],
   "source": [
    "from tensorflow.examples.tutorials.mnist import input_data\n",
    "mnist = input_data.read_data_sets('MNIST_data', one_hot=True)"
   ]
  },
  {
   "cell_type": "code",
   "execution_count": 12,
   "metadata": {},
   "outputs": [
    {
     "name": "stdout",
     "output_type": "stream",
     "text": [
      "Número de ejemplos de entrenamiento: 55000\n",
      "Número de ejemplos de validación: 5000\n",
      "Número de ejemplos de prueba: 10000\n",
      "Tamaño de cada dígito: 784\n",
      "Tamaño de cada etiqueta: 10\n"
     ]
    }
   ],
   "source": [
    "%matplotlib inline\n",
    "import matplotlib.pyplot as plt \n",
    "import time\n",
    "\n",
    "### Los Ejemplos de entrenamiento están en: \n",
    "# mnist.train.images\n",
    "print(\"Número de ejemplos de entrenamiento:\", mnist.train.images.shape[0])\n",
    "\n",
    "### El conjunto de validacion es: \n",
    "# mnist.validation\n",
    "print(\"Número de ejemplos de validación:\", mnist.validation.images.shape[0])\n",
    "\n",
    "\n",
    "### El conjunto de prueba es: \n",
    "# mnist.test\n",
    "print(\"Número de ejemplos de prueba:\", mnist.test.images.shape[0])\n",
    "\n",
    "\n",
    "### Cada dígito es un vector de dimensión 784 .\n",
    "print(\"Tamaño de cada dígito:\", mnist.train.images.shape[1])\n",
    "\n",
    "\n",
    "### Las etiquetas se encuentran en: \n",
    "# mnist.train.labels\n",
    "# mnist.validation.labels\n",
    "# mnist.test.labels\n",
    "\n",
    "print(\"Tamaño de cada etiqueta:\", mnist.train.labels.shape[1])\n",
    "#Cada etiqueta es un one-hot-vector,ie. un vector con un solo uno, las demás entradas son cero\n",
    "#[1,0,0,0,0,0,0,0,0,0]  representa el número 0\n",
    "#[0,1,0,0,0,0,0,0,0,0]  representa el número 1\n",
    "#   .\n",
    "#   .\n",
    "#   .\n",
    "\n"
   ]
  },
  {
   "cell_type": "markdown",
   "metadata": {},
   "source": [
    "### Muestra Dígito "
   ]
  },
  {
   "cell_type": "code",
   "execution_count": 33,
   "metadata": {},
   "outputs": [],
   "source": [
    "#Cada dígito se almacena como un vector de 784 dimensiones. Para visualizarlo, primero lo redimensionamos a una imagen de 28x28.\n",
    "def muestra_digito(x):\n",
    "    \"\"\"\n",
    "        x: vector \n",
    "            784 dimensiones\n",
    "        Muestra el vector como una imágen de 28x28\n",
    "    \"\"\"\n",
    "    plt.axis('off')\n",
    "    plt.imshow(x.reshape((28,28)), cmap=plt.cm.gray)\n",
    "    plt.show()\n",
    "    return\n",
    "\n",
    "def vis_imagen(i, conjunto=\"train\"):\n",
    "    \"\"\"\n",
    "        i indice del conjunto especificado\n",
    "        conjunto: cadena\n",
    "            Cualquiera: train, validation, test\n",
    "            \n",
    "        Muestra el dígito en el indice i  y su etiqueta\n",
    "    \"\"\"\n",
    "    if(conjunto==\"train\"): \n",
    "        muestra_digito(mnist.train.images[i,])\n",
    "        label = np.argwhere(mnist.train.labels[i])[0][0]\n",
    "    elif(conjunto==\"test\"): \n",
    "        muestra_digito(mnist.test.images[i,])\n",
    "        label = np.argwhere(mnist.test.labels[i])[0][0]\n",
    "    else:\n",
    "        muestra_digito(mnist.validation.images[i,])\n",
    "        label = np.argwhere(mnist.validation.labels[i])[0][0]\n",
    "    print(\"Etiqueta \" + str(label))\n",
    "    return\n",
    "\n"
   ]
  },
  {
   "cell_type": "code",
   "execution_count": 34,
   "metadata": {},
   "outputs": [
    {
     "data": {
      "image/png": "[encoded data removed]",
      "text/plain": [
       "<matplotlib.figure.Figure at 0x1d583c0edd8>"
      ]
     },
     "metadata": {},
     "output_type": "display_data"
    },
    {
     "name": "stdout",
     "output_type": "stream",
     "text": [
      "Etiqueta 5\n"
     ]
    },
    {
     "data": {
      "image/png": "[encoded data removed]",
      "text/plain": [
       "<matplotlib.figure.Figure at 0x1d583ba9390>"
      ]
     },
     "metadata": {},
     "output_type": "display_data"
    },
    {
     "name": "stdout",
     "output_type": "stream",
     "text": [
      "Etiqueta 5\n"
     ]
    },
    {
     "data": {
      "image/png": "[encoded data removed]",
      "text/plain": [
       "<matplotlib.figure.Figure at 0x1d583ba4f60>"
      ]
     },
     "metadata": {},
     "output_type": "display_data"
    },
    {
     "name": "stdout",
     "output_type": "stream",
     "text": [
      "Etiqueta 3\n"
     ]
    },
    {
     "data": {
      "image/png": "[encoded data removed]",
      "text/plain": [
       "<matplotlib.figure.Figure at 0x1d583b7d748>"
      ]
     },
     "metadata": {},
     "output_type": "display_data"
    },
    {
     "name": "stdout",
     "output_type": "stream",
     "text": [
      "Etiqueta 4\n"
     ]
    }
   ],
   "source": [
    "vis_imagen(0, conjunto=\"train\")\n",
    "vis_imagen(132, conjunto=\"validation\")\n",
    "vis_imagen(32, conjunto=\"test\")\n",
    "vis_imagen(50000, conjunto=\"train\")\n"
   ]
  },
  {
   "cell_type": "markdown",
   "metadata": {},
   "source": [
    "# RED NEURONAL"
   ]
  },
  {
   "cell_type": "markdown",
   "metadata": {},
   "source": [
    "## Placeholders para los datos de entrenamiento\n",
    "### En ellos se pasaran despues los datos de entrenamiento (x,y)\n",
    "### x imagen, y etiqueta"
   ]
  },
  {
   "cell_type": "code",
   "execution_count": 35,
   "metadata": {},
   "outputs": [],
   "source": [
    "x = tf.placeholder(tf.float32, shape=[None, 784]) \n",
    "y = tf.placeholder(tf.float32, shape=[None, 10])"
   ]
  },
  {
   "cell_type": "markdown",
   "metadata": {},
   "source": [
    "### Variables del modelo\n"
   ]
  },
  {
   "cell_type": "code",
   "execution_count": 36,
   "metadata": {},
   "outputs": [],
   "source": [
    "### Capa 1\n",
    "W_1 = tf.Variable(tf.truncated_normal(shape = [784,512], stddev=0.2))\n",
    "b_1 = tf.Variable(tf.zeros([512]))\n",
    "\n",
    "### Capa 2 de salida\n",
    "W_2 = tf.Variable(tf.truncated_normal(shape = [512,10], stddev=0.2))\n",
    "b_2 = tf.Variable(tf.zeros([10]))\n"
   ]
  },
  {
   "cell_type": "markdown",
   "metadata": {},
   "source": [
    "### Arquitectura de la red neural"
   ]
  },
  {
   "cell_type": "code",
   "execution_count": 37,
   "metadata": {},
   "outputs": [],
   "source": [
    "def NN(x):\n",
    "    \"\"\"\n",
    "        x: matriz\n",
    "            su forma  debe ser (m, 784)\n",
    "            \n",
    "        regresa la activación de la capa de salida\n",
    "        matriz de (m, 10)\n",
    "    \"\"\"\n",
    "    # Capa Escondida 1. \n",
    "    z_1 = tf.matmul(x,W_1) + b_1 ### Combinación lineal\n",
    "    a_1  = tf.nn.relu(z_1)     ### Activación (función no lineal)\n",
    "    \n",
    "    # Capa 2. Está es la capa de salida\n",
    "    z_2 = tf.matmul(a_1,W_2) + b_2 ### Combinación lineal\n",
    "    \n",
    "    return z_2"
   ]
  },
  {
   "cell_type": "markdown",
   "metadata": {},
   "source": [
    "### Función de costo"
   ]
  },
  {
   "cell_type": "code",
   "execution_count": 38,
   "metadata": {},
   "outputs": [],
   "source": [
    "y_ = NN(x)\n",
    "cross_entropy = tf.reduce_mean(tf.nn.softmax_cross_entropy_with_logits(logits = y_, labels = y))"
   ]
  },
  {
   "cell_type": "markdown",
   "metadata": {},
   "source": [
    "### Predicciones"
   ]
  },
  {
   "cell_type": "code",
   "execution_count": 45,
   "metadata": {},
   "outputs": [],
   "source": [
    "train_pred = tf.nn.softmax(y_) # predicciones en el conjunto de entrenamiento\n",
    "### Nota: la función softmax calcula la probabilidad de cada etiqueta del 0 al 9.\n",
    "#Para obtener la predicción necesitamos usar las función tf.argmax(y_,1) o su versión en python np.argmax(y_,1)\n",
    "#Así se elige el dígito más probable para la imágen\n",
    "#Esto lo hace la función precision\n",
    "\n",
    "y_valid = NN(mnist.validation.images)\n",
    "valid_pred = tf.nn.softmax(y_valid) # predicciones en el conjunto de validación"
   ]
  },
  {
   "cell_type": "markdown",
   "metadata": {},
   "source": [
    "### Optimizador "
   ]
  },
  {
   "cell_type": "code",
   "execution_count": 46,
   "metadata": {},
   "outputs": [],
   "source": [
    "opt = tf.train.GradientDescentOptimizer(0.5).minimize(cross_entropy)"
   ]
  },
  {
   "cell_type": "markdown",
   "metadata": {},
   "source": [
    "### Sesión e inicializacion de varables"
   ]
  },
  {
   "cell_type": "code",
   "execution_count": 47,
   "metadata": {},
   "outputs": [],
   "source": [
    "sess = tf.Session() #Crea una sessión\n",
    "sess.run(tf.global_variables_initializer())"
   ]
  },
  {
   "cell_type": "code",
   "execution_count": 48,
   "metadata": {},
   "outputs": [],
   "source": [
    "### Precisión\n",
    "def precision(predicciones, etiquetas):\n",
    "    return (100.0 * np.sum(np.argmax(predicciones, 1) == np.argmax(etiquetas, 1))\n",
    "          / predicciones.shape[0])"
   ]
  },
  {
   "cell_type": "markdown",
   "metadata": {},
   "source": [
    "### Entrenamiento "
   ]
  },
  {
   "cell_type": "code",
   "execution_count": 49,
   "metadata": {},
   "outputs": [
    {
     "name": "stdout",
     "output_type": "stream",
     "text": [
      "Entrenamiento:\n",
      "Costo del minibatch hasta el paso 0: 7.695889\n",
      "Precisión en el conjunto de entrenamiento: 4.0%\n",
      "Precision en el conjunto de validación: 17.6%\n",
      "\n",
      "\n",
      "Costo del minibatch hasta el paso 500: 0.097601\n",
      "Precisión en el conjunto de entrenamiento: 98.0%\n",
      "Precision en el conjunto de validación: 96.0%\n",
      "\n",
      "\n",
      "Costo del minibatch hasta el paso 1000: 0.079301\n",
      "Precisión en el conjunto de entrenamiento: 97.0%\n",
      "Precision en el conjunto de validación: 96.9%\n",
      "\n",
      "\n",
      "Costo del minibatch hasta el paso 1500: 0.028340\n",
      "Precisión en el conjunto de entrenamiento: 100.0%\n",
      "Precision en el conjunto de validación: 97.4%\n",
      "\n",
      "\n",
      "Costo del minibatch hasta el paso 2000: 0.035874\n",
      "Precisión en el conjunto de entrenamiento: 98.0%\n",
      "Precision en el conjunto de validación: 97.4%\n",
      "\n",
      "\n",
      "Costo del minibatch hasta el paso 2500: 0.038116\n",
      "Precisión en el conjunto de entrenamiento: 99.0%\n",
      "Precision en el conjunto de validación: 97.4%\n",
      "\n",
      "\n",
      "Costo del minibatch hasta el paso 3000: 0.014822\n",
      "Precisión en el conjunto de entrenamiento: 100.0%\n",
      "Precision en el conjunto de validación: 97.6%\n",
      "\n",
      "\n",
      "Costo del minibatch hasta el paso 3500: 0.042495\n",
      "Precisión en el conjunto de entrenamiento: 99.0%\n",
      "Precision en el conjunto de validación: 97.6%\n",
      "\n",
      "\n",
      "Costo del minibatch hasta el paso 4000: 0.013436\n",
      "Precisión en el conjunto de entrenamiento: 100.0%\n",
      "Precision en el conjunto de validación: 97.9%\n",
      "\n",
      "\n",
      "Costo del minibatch hasta el paso 4500: 0.012864\n",
      "Precisión en el conjunto de entrenamiento: 100.0%\n",
      "Precision en el conjunto de validación: 98.0%\n",
      "\n",
      "\n",
      "Wall time: 12.8 s\n"
     ]
    }
   ],
   "source": [
    "%%time \n",
    "\n",
    "pasos = 5000\n",
    "\n",
    "print(\"Entrenamiento:\")\n",
    "for i in range(pasos):\n",
    "    batch = mnist.train.next_batch(100)\n",
    "    _,costo,predicciones =  sess.run([opt, cross_entropy, train_pred],  feed_dict={x: batch[0], y: batch[1]})\n",
    "    \n",
    "    if (i % 500 == 0):\n",
    "        print(\"Costo del minibatch hasta el paso %d: %f\" % (i, costo))\n",
    "        print(\"Precisión en el conjunto de entrenamiento: %.1f%%\" % precision(predicciones, batch[1]))\n",
    "        print(\"Precision en el conjunto de validación: %.1f%%\" % precision(\n",
    "        valid_pred.eval(session=sess), mnist.validation.labels))\n",
    "        print(\"\\n\")"
   ]
  },
  {
   "cell_type": "code",
   "execution_count": 50,
   "metadata": {},
   "outputs": [
    {
     "name": "stdout",
     "output_type": "stream",
     "text": [
      "Precisión en el conjunto de PRUEBA: 97.6%\n"
     ]
    }
   ],
   "source": [
    "y_test = NN(mnist.test.images)\n",
    "test_prediction = tf.nn.softmax(y_test)\n",
    "print(\"Precisión en el conjunto de PRUEBA: %.1f%%\" % precision(test_prediction.eval(session = sess), mnist.test.labels))    "
   ]
  },
  {
   "cell_type": "code",
   "execution_count": 54,
   "metadata": {},
   "outputs": [
    {
     "name": "stdout",
     "output_type": "stream",
     "text": [
      "Predicción: 1\n"
     ]
    },
    {
     "data": {
      "image/png": "[encoded data removed]",
      "text/plain": [
       "<matplotlib.figure.Figure at 0x1d58f0190b8>"
      ]
     },
     "metadata": {},
     "output_type": "display_data"
    },
    {
     "name": "stdout",
     "output_type": "stream",
     "text": [
      "Etiqueta 1\n"
     ]
    }
   ],
   "source": [
    "indice = 251\n",
    "p = tf.argmax(NN(mnist.test.images[indice:indice+1]).eval(session = sess),1)\n",
    "print(\"Predicción:\", sess.run(p)[0])\n",
    "vis_imagen(indice, conjunto=\"test\")"
   ]
  }
 ],
 "metadata": {
  "kernelspec": {
   "display_name": "tensorflow",
   "language": "python",
   "name": "tensorflow"
  },
  "language_info": {
   "codemirror_mode": {
    "name": "ipython",
    "version": 3
   },
   "file_extension": ".py",
   "mimetype": "text/x-python",
   "name": "python",
   "nbconvert_exporter": "python",
   "pygments_lexer": "ipython3",
   "version": "3.5.4"
  }
 },
 "nbformat": 4,
 "nbformat_minor": 2
}
